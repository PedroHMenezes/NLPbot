{
 "cells": [
  {
   "cell_type": "code",
   "execution_count": 95,
   "metadata": {},
   "outputs": [
    {
     "name": "stdout",
     "output_type": "stream",
     "text": [
      "[*********************100%***********************]  4 of 4 completed\n"
     ]
    }
   ],
   "source": [
    "import yfinance as yf\n",
    "import re\n",
    "\n",
    "def tickers (companies):\n",
    "    tickers_list = re.findall(r'\\b\\w+\\b', companies.upper())\n",
    "    \n",
    "def database (companies):\n",
    "    tickers_list = re.findall(r'\\b\\w+\\b', companies.upper())\n",
    "    tickers_string = \" \".join(tickers_list)\n",
    "    df = yf.download(tickers = tickers_list,\n",
    "                period=\"1y\",\n",
    "                interval = \"1d\",\n",
    "                ignore_tz = True,\n",
    "                prepost = False)\n",
    "    return df"
   ]
  },
  {
   "cell_type": "code",
   "execution_count": 96,
   "metadata": {},
   "outputs": [
    {
     "data": {
      "text/plain": [
       "'O preço do fechamento de ontem para MSFT é USD 269.32'"
      ]
     },
     "execution_count": 96,
     "metadata": {},
     "output_type": "execute_result"
    }
   ],
   "source": [
    "def last_price(company, df):\n",
    "    price = df['Close'].iloc[-2][company]\n",
    "    yf_company = yf.Ticker(company)\n",
    "    currency = yf_company.info['financialCurrency']\n",
    "    return 'O preço do fechamento de ontem para {0} é {1} {2:.2f}'.format(company, currency, price)"
   ]
  },
  {
   "cell_type": "code",
   "execution_count": 97,
   "metadata": {},
   "outputs": [
    {
     "data": {
      "text/plain": [
       "'Retorno em 1 semana: 0.97%'"
      ]
     },
     "execution_count": 97,
     "metadata": {},
     "output_type": "execute_result"
    }
   ],
   "source": [
    "def return_1w(company, df):\n",
    "    retorno = (df['Close'].iloc[-2][company])/(df['Close'].iloc[-7][company])-1\n",
    "    return 'Retorno em 1 semana: {0:.2%}'.format(retorno)"
   ]
  },
  {
   "cell_type": "code",
   "execution_count": 99,
   "metadata": {},
   "outputs": [
    {
     "data": {
      "text/plain": [
       "'Retorno em 1 mês: 12.58%'"
      ]
     },
     "execution_count": 99,
     "metadata": {},
     "output_type": "execute_result"
    }
   ],
   "source": [
    "def return_1m(company, df):\n",
    "    retorno = (df['Close'].iloc[-2][company])/(df['Close'].iloc[-24][company])-1\n",
    "    return 'Retorno em 1 mês: {0:.2%}'.format(retorno)"
   ]
  },
  {
   "cell_type": "code",
   "execution_count": 100,
   "metadata": {},
   "outputs": [
    {
     "data": {
      "text/plain": [
       "'Retorno em 1 ano: -10.08%'"
      ]
     },
     "execution_count": 100,
     "metadata": {},
     "output_type": "execute_result"
    }
   ],
   "source": [
    "def return_1y(company, df):\n",
    "    retorno = (df['Close'].iloc[-2][company])/(df['Close'].iloc[0][company])-1\n",
    "    return 'Retorno em 1 ano: {0:.2%}'.format(retorno)"
   ]
  }
 ],
 "metadata": {
  "kernelspec": {
   "display_name": "Python 3",
   "language": "python",
   "name": "python3"
  },
  "language_info": {
   "codemirror_mode": {
    "name": "ipython",
    "version": 3
   },
   "file_extension": ".py",
   "mimetype": "text/x-python",
   "name": "python",
   "nbconvert_exporter": "python",
   "pygments_lexer": "ipython3",
   "version": "3.8.3"
  }
 },
 "nbformat": 4,
 "nbformat_minor": 4
}
